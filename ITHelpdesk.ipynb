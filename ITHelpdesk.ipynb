{
 "cells": [
  {
   "cell_type": "code",
   "execution_count": 15,
   "id": "42d97c44-80eb-46ac-9b5f-022b13c18103",
   "metadata": {},
   "outputs": [
    {
     "name": "stdout",
     "output_type": "stream",
     "text": [
      "🎯 IT HELPDESK DATA ANALYSIS - STEP BY STEP\n",
      "====================================================================================================\n",
      "Setting up libraries...\n"
     ]
    }
   ],
   "source": [
    "print(\"🎯 IT HELPDESK DATA ANALYSIS - STEP BY STEP\")\n",
    "print(\"=\" * 100)\n",
    "print(\"Setting up libraries...\")"
   ]
  },
  {
   "cell_type": "code",
   "execution_count": 21,
   "id": "06dcc616-8d09-4f54-902f-8dd5012e35dd",
   "metadata": {},
   "outputs": [
    {
     "name": "stdout",
     "output_type": "stream",
     "text": [
      "✅ All libraries imported successfully!\n",
      "📋 Ready to analyze your helpdesk data\n"
     ]
    }
   ],
   "source": [
    "import pandas as pd\n",
    "import numpy as np\n",
    "import os\n",
    "import matplotlib.pyplot as plt\n",
    "import seaborn as sns\n",
    "from datetime import datetime\n",
    "import warnings\n",
    "warnings.filterwarnings('ignore')  # Hide warning messages\n",
    "print(\"✅ All libraries imported successfully!\")\n",
    "print(\"📋 Ready to analyze your helpdesk data\")"
   ]
  },
  {
   "cell_type": "code",
   "execution_count": 24,
   "id": "cad9aee0-9d4f-466b-b730-5ae8408a92c4",
   "metadata": {},
   "outputs": [
    {
     "name": "stdout",
     "output_type": "stream",
     "text": [
      "Current Working Directory :=> D:\\Users\\coit25\\Documents\\Workspace\\Python\\Projects\\IT_Helpdesk_Ticket_Analysis\n",
      "File found: data\\raw_tickets.csv\n"
     ]
    }
   ],
   "source": [
    "print(\"Current Working Directory :=>\", os.getcwd())\n",
    "file_path = os.path.join('data', 'raw_tickets.csv')\n",
    "\n",
    "# Check if file exists\n",
    "if not os.path.exists(file_path):\n",
    "    print(\"File not found. Please add raw_tickets.csv to the /data folder.\")\n",
    "else:\n",
    "    print(\"File found:\", file_path)"
   ]
  },
  {
   "cell_type": "code",
   "execution_count": 25,
   "id": "dc3388a7-19bf-441f-b4af-45d79a4b744b",
   "metadata": {},
   "outputs": [
    {
     "data": {
      "text/html": [
       "<div>\n",
       "<style scoped>\n",
       "    .dataframe tbody tr th:only-of-type {\n",
       "        vertical-align: middle;\n",
       "    }\n",
       "\n",
       "    .dataframe tbody tr th {\n",
       "        vertical-align: top;\n",
       "    }\n",
       "\n",
       "    .dataframe thead th {\n",
       "        text-align: right;\n",
       "    }\n",
       "</style>\n",
       "<table border=\"1\" class=\"dataframe\">\n",
       "  <thead>\n",
       "    <tr style=\"text-align: right;\">\n",
       "      <th></th>\n",
       "      <th>ticketid</th>\n",
       "      <th>Ticket</th>\n",
       "      <th>CreationDate</th>\n",
       "      <th>LastUpdated</th>\n",
       "      <th>Type</th>\n",
       "      <th>State</th>\n",
       "      <th>Priority</th>\n",
       "      <th>Source</th>\n",
       "      <th>User</th>\n",
       "      <th>AssignedAgent</th>\n",
       "      <th>...</th>\n",
       "      <th>Agent EmailID</th>\n",
       "      <th>ClosureTime</th>\n",
       "      <th>SLA_Response_Time</th>\n",
       "      <th>SLA_Resolution_Time</th>\n",
       "      <th>LoginID</th>\n",
       "      <th>AA</th>\n",
       "      <th>TimeDifferenceMinutes</th>\n",
       "      <th>resp_minutes</th>\n",
       "      <th>resp_hrs</th>\n",
       "      <th>DD</th>\n",
       "    </tr>\n",
       "  </thead>\n",
       "  <tbody>\n",
       "    <tr>\n",
       "      <th>0</th>\n",
       "      <td>26250</td>\n",
       "      <td>#26250</td>\n",
       "      <td>6/23/2023 3:19</td>\n",
       "      <td>6/23/2023 10:51</td>\n",
       "      <td>Application Support</td>\n",
       "      <td>Resolved by IT</td>\n",
       "      <td>Medium</td>\n",
       "      <td>Email</td>\n",
       "      <td>Microsoft Outlook</td>\n",
       "      <td>Ashok Wagh</td>\n",
       "      <td>...</td>\n",
       "      <td>ashok.wagh@hp.co.in</td>\n",
       "      <td>312d 0h 41m</td>\n",
       "      <td>3.0</td>\n",
       "      <td>24.0</td>\n",
       "      <td>NaN</td>\n",
       "      <td>60+ days</td>\n",
       "      <td>452.0</td>\n",
       "      <td>14.0</td>\n",
       "      <td>0.0</td>\n",
       "      <td>0.0</td>\n",
       "    </tr>\n",
       "    <tr>\n",
       "      <th>1</th>\n",
       "      <td>26249</td>\n",
       "      <td>#26249</td>\n",
       "      <td>6/23/2023 3:19</td>\n",
       "      <td>6/23/2023 10:51</td>\n",
       "      <td>Application Support</td>\n",
       "      <td>Resolved by IT</td>\n",
       "      <td>Medium</td>\n",
       "      <td>Email</td>\n",
       "      <td>Microsoft Outlook</td>\n",
       "      <td>Ashok Wagh</td>\n",
       "      <td>...</td>\n",
       "      <td>ashok.wagh@hp.co.in</td>\n",
       "      <td>312d 0h 41m</td>\n",
       "      <td>3.0</td>\n",
       "      <td>24.0</td>\n",
       "      <td>NaN</td>\n",
       "      <td>60+ days</td>\n",
       "      <td>452.0</td>\n",
       "      <td>14.0</td>\n",
       "      <td>0.0</td>\n",
       "      <td>0.0</td>\n",
       "    </tr>\n",
       "    <tr>\n",
       "      <th>2</th>\n",
       "      <td>26248</td>\n",
       "      <td>#26248</td>\n",
       "      <td>6/23/2023 3:19</td>\n",
       "      <td>6/23/2023 10:51</td>\n",
       "      <td>Application Support</td>\n",
       "      <td>Resolved by IT</td>\n",
       "      <td>Medium</td>\n",
       "      <td>Email</td>\n",
       "      <td>Microsoft Outlook</td>\n",
       "      <td>Ashok Wagh</td>\n",
       "      <td>...</td>\n",
       "      <td>ashok.wagh@hp.co.in</td>\n",
       "      <td>312d 0h 41m</td>\n",
       "      <td>3.0</td>\n",
       "      <td>24.0</td>\n",
       "      <td>NaN</td>\n",
       "      <td>60+ days</td>\n",
       "      <td>452.0</td>\n",
       "      <td>14.0</td>\n",
       "      <td>0.0</td>\n",
       "      <td>0.0</td>\n",
       "    </tr>\n",
       "    <tr>\n",
       "      <th>3</th>\n",
       "      <td>26247</td>\n",
       "      <td>#26247</td>\n",
       "      <td>6/23/2023 3:19</td>\n",
       "      <td>6/23/2023 10:51</td>\n",
       "      <td>Application Support</td>\n",
       "      <td>Resolved by IT</td>\n",
       "      <td>Medium</td>\n",
       "      <td>Email</td>\n",
       "      <td>Microsoft Outlook</td>\n",
       "      <td>Ashok Wagh</td>\n",
       "      <td>...</td>\n",
       "      <td>ashok.wagh@hp.co.in</td>\n",
       "      <td>312d 0h 41m</td>\n",
       "      <td>3.0</td>\n",
       "      <td>24.0</td>\n",
       "      <td>NaN</td>\n",
       "      <td>60+ days</td>\n",
       "      <td>452.0</td>\n",
       "      <td>14.0</td>\n",
       "      <td>0.0</td>\n",
       "      <td>0.0</td>\n",
       "    </tr>\n",
       "    <tr>\n",
       "      <th>4</th>\n",
       "      <td>26246</td>\n",
       "      <td>#26246</td>\n",
       "      <td>6/23/2023 3:19</td>\n",
       "      <td>6/23/2023 10:51</td>\n",
       "      <td>Application Support</td>\n",
       "      <td>Resolved by IT</td>\n",
       "      <td>Medium</td>\n",
       "      <td>Email</td>\n",
       "      <td>Microsoft Outlook</td>\n",
       "      <td>Ashok Wagh</td>\n",
       "      <td>...</td>\n",
       "      <td>ashok.wagh@hp.co.in</td>\n",
       "      <td>312d 0h 41m</td>\n",
       "      <td>3.0</td>\n",
       "      <td>24.0</td>\n",
       "      <td>NaN</td>\n",
       "      <td>60+ days</td>\n",
       "      <td>452.0</td>\n",
       "      <td>14.0</td>\n",
       "      <td>0.0</td>\n",
       "      <td>0.0</td>\n",
       "    </tr>\n",
       "    <tr>\n",
       "      <th>...</th>\n",
       "      <td>...</td>\n",
       "      <td>...</td>\n",
       "      <td>...</td>\n",
       "      <td>...</td>\n",
       "      <td>...</td>\n",
       "      <td>...</td>\n",
       "      <td>...</td>\n",
       "      <td>...</td>\n",
       "      <td>...</td>\n",
       "      <td>...</td>\n",
       "      <td>...</td>\n",
       "      <td>...</td>\n",
       "      <td>...</td>\n",
       "      <td>...</td>\n",
       "      <td>...</td>\n",
       "      <td>...</td>\n",
       "      <td>...</td>\n",
       "      <td>...</td>\n",
       "      <td>...</td>\n",
       "      <td>...</td>\n",
       "      <td>...</td>\n",
       "    </tr>\n",
       "    <tr>\n",
       "      <th>17701</th>\n",
       "      <td>37462</td>\n",
       "      <td>#37462</td>\n",
       "      <td>10/23/2023 10:52</td>\n",
       "      <td>11/2/2023 11:40</td>\n",
       "      <td>Application Support</td>\n",
       "      <td>Closed</td>\n",
       "      <td>Medium</td>\n",
       "      <td>Website</td>\n",
       "      <td>Ankita Meshram</td>\n",
       "      <td>Ashok Wagh</td>\n",
       "      <td>...</td>\n",
       "      <td>ashok.wagh@hp.co.in</td>\n",
       "      <td>NaN</td>\n",
       "      <td>3.0</td>\n",
       "      <td>24.0</td>\n",
       "      <td>coppc11</td>\n",
       "      <td>60+ days</td>\n",
       "      <td>14448.0</td>\n",
       "      <td>8.0</td>\n",
       "      <td>0.0</td>\n",
       "      <td>10.0</td>\n",
       "    </tr>\n",
       "    <tr>\n",
       "      <th>17702</th>\n",
       "      <td>37414</td>\n",
       "      <td>#37414</td>\n",
       "      <td>10/20/2023 9:02</td>\n",
       "      <td>1/22/2024 12:10</td>\n",
       "      <td>Application Support</td>\n",
       "      <td>Closed</td>\n",
       "      <td>Medium</td>\n",
       "      <td>Website</td>\n",
       "      <td>Amol Bhagwat</td>\n",
       "      <td>Ashok Wagh</td>\n",
       "      <td>...</td>\n",
       "      <td>ashok.wagh@hp.co.in</td>\n",
       "      <td>NaN</td>\n",
       "      <td>3.0</td>\n",
       "      <td>24.0</td>\n",
       "      <td>coppc05</td>\n",
       "      <td>60+ days</td>\n",
       "      <td>135548.0</td>\n",
       "      <td>12.0</td>\n",
       "      <td>0.0</td>\n",
       "      <td>94.0</td>\n",
       "    </tr>\n",
       "    <tr>\n",
       "      <th>17703</th>\n",
       "      <td>37363</td>\n",
       "      <td>#37363</td>\n",
       "      <td>10/18/2023 14:08</td>\n",
       "      <td>10/25/2023 14:49</td>\n",
       "      <td>Application Support</td>\n",
       "      <td>Closed</td>\n",
       "      <td>Medium</td>\n",
       "      <td>Website</td>\n",
       "      <td>Ankita Meshram</td>\n",
       "      <td>Ashok Wagh</td>\n",
       "      <td>...</td>\n",
       "      <td>ashok.wagh@hp.co.in</td>\n",
       "      <td>NaN</td>\n",
       "      <td>3.0</td>\n",
       "      <td>24.0</td>\n",
       "      <td>coppc11</td>\n",
       "      <td>60+ days</td>\n",
       "      <td>10121.0</td>\n",
       "      <td>0.0</td>\n",
       "      <td>0.0</td>\n",
       "      <td>7.0</td>\n",
       "    </tr>\n",
       "    <tr>\n",
       "      <th>17704</th>\n",
       "      <td>37297</td>\n",
       "      <td>#37297</td>\n",
       "      <td>10/16/2023 11:40</td>\n",
       "      <td>12/6/2023 16:35</td>\n",
       "      <td>Application Support</td>\n",
       "      <td>Closed</td>\n",
       "      <td>Medium</td>\n",
       "      <td>Website</td>\n",
       "      <td>Anket Tekade</td>\n",
       "      <td>Ashok Wagh</td>\n",
       "      <td>...</td>\n",
       "      <td>ashok.wagh@hp.co.in</td>\n",
       "      <td>NaN</td>\n",
       "      <td>3.0</td>\n",
       "      <td>24.0</td>\n",
       "      <td>coppc10</td>\n",
       "      <td>60+ days</td>\n",
       "      <td>73735.0</td>\n",
       "      <td>15.0</td>\n",
       "      <td>0.0</td>\n",
       "      <td>51.0</td>\n",
       "    </tr>\n",
       "    <tr>\n",
       "      <th>17705</th>\n",
       "      <td>37295</td>\n",
       "      <td>#37295</td>\n",
       "      <td>10/16/2023 11:25</td>\n",
       "      <td>12/6/2023 16:35</td>\n",
       "      <td>Application Support</td>\n",
       "      <td>Closed</td>\n",
       "      <td>Medium</td>\n",
       "      <td>Website</td>\n",
       "      <td>Anket Tekade</td>\n",
       "      <td>Ashok Wagh</td>\n",
       "      <td>...</td>\n",
       "      <td>ashok.wagh@hp.co.in</td>\n",
       "      <td>NaN</td>\n",
       "      <td>3.0</td>\n",
       "      <td>24.0</td>\n",
       "      <td>coppc10</td>\n",
       "      <td>60+ days</td>\n",
       "      <td>73750.0</td>\n",
       "      <td>29.0</td>\n",
       "      <td>0.0</td>\n",
       "      <td>51.0</td>\n",
       "    </tr>\n",
       "  </tbody>\n",
       "</table>\n",
       "<p>17706 rows × 48 columns</p>\n",
       "</div>"
      ],
      "text/plain": [
       "       ticketid  Ticket      CreationDate       LastUpdated  \\\n",
       "0         26250  #26250    6/23/2023 3:19   6/23/2023 10:51   \n",
       "1         26249  #26249    6/23/2023 3:19   6/23/2023 10:51   \n",
       "2         26248  #26248    6/23/2023 3:19   6/23/2023 10:51   \n",
       "3         26247  #26247    6/23/2023 3:19   6/23/2023 10:51   \n",
       "4         26246  #26246    6/23/2023 3:19   6/23/2023 10:51   \n",
       "...         ...     ...               ...               ...   \n",
       "17701     37462  #37462  10/23/2023 10:52   11/2/2023 11:40   \n",
       "17702     37414  #37414   10/20/2023 9:02   1/22/2024 12:10   \n",
       "17703     37363  #37363  10/18/2023 14:08  10/25/2023 14:49   \n",
       "17704     37297  #37297  10/16/2023 11:40   12/6/2023 16:35   \n",
       "17705     37295  #37295  10/16/2023 11:25   12/6/2023 16:35   \n",
       "\n",
       "                      Type           State Priority   Source  \\\n",
       "0      Application Support  Resolved by IT   Medium    Email   \n",
       "1      Application Support  Resolved by IT   Medium    Email   \n",
       "2      Application Support  Resolved by IT   Medium    Email   \n",
       "3      Application Support  Resolved by IT   Medium    Email   \n",
       "4      Application Support  Resolved by IT   Medium    Email   \n",
       "...                    ...             ...      ...      ...   \n",
       "17701  Application Support          Closed   Medium  Website   \n",
       "17702  Application Support          Closed   Medium  Website   \n",
       "17703  Application Support          Closed   Medium  Website   \n",
       "17704  Application Support          Closed   Medium  Website   \n",
       "17705  Application Support          Closed   Medium  Website   \n",
       "\n",
       "                    User AssignedAgent  ...        Agent EmailID  \\\n",
       "0      Microsoft Outlook    Ashok Wagh  ...  ashok.wagh@hp.co.in   \n",
       "1      Microsoft Outlook    Ashok Wagh  ...  ashok.wagh@hp.co.in   \n",
       "2      Microsoft Outlook    Ashok Wagh  ...  ashok.wagh@hp.co.in   \n",
       "3      Microsoft Outlook    Ashok Wagh  ...  ashok.wagh@hp.co.in   \n",
       "4      Microsoft Outlook    Ashok Wagh  ...  ashok.wagh@hp.co.in   \n",
       "...                  ...           ...  ...                  ...   \n",
       "17701     Ankita Meshram    Ashok Wagh  ...  ashok.wagh@hp.co.in   \n",
       "17702       Amol Bhagwat    Ashok Wagh  ...  ashok.wagh@hp.co.in   \n",
       "17703     Ankita Meshram    Ashok Wagh  ...  ashok.wagh@hp.co.in   \n",
       "17704       Anket Tekade    Ashok Wagh  ...  ashok.wagh@hp.co.in   \n",
       "17705       Anket Tekade    Ashok Wagh  ...  ashok.wagh@hp.co.in   \n",
       "\n",
       "        ClosureTime SLA_Response_Time SLA_Resolution_Time  LoginID        AA  \\\n",
       "0      312d 0h 41m                3.0                24.0      NaN  60+ days   \n",
       "1      312d 0h 41m                3.0                24.0      NaN  60+ days   \n",
       "2      312d 0h 41m                3.0                24.0      NaN  60+ days   \n",
       "3      312d 0h 41m                3.0                24.0      NaN  60+ days   \n",
       "4      312d 0h 41m                3.0                24.0      NaN  60+ days   \n",
       "...             ...               ...                 ...      ...       ...   \n",
       "17701           NaN               3.0                24.0  coppc11  60+ days   \n",
       "17702           NaN               3.0                24.0  coppc05  60+ days   \n",
       "17703           NaN               3.0                24.0  coppc11  60+ days   \n",
       "17704           NaN               3.0                24.0  coppc10  60+ days   \n",
       "17705           NaN               3.0                24.0  coppc10  60+ days   \n",
       "\n",
       "      TimeDifferenceMinutes resp_minutes resp_hrs    DD  \n",
       "0                     452.0         14.0      0.0   0.0  \n",
       "1                     452.0         14.0      0.0   0.0  \n",
       "2                     452.0         14.0      0.0   0.0  \n",
       "3                     452.0         14.0      0.0   0.0  \n",
       "4                     452.0         14.0      0.0   0.0  \n",
       "...                     ...          ...      ...   ...  \n",
       "17701               14448.0          8.0      0.0  10.0  \n",
       "17702              135548.0         12.0      0.0  94.0  \n",
       "17703               10121.0          0.0      0.0   7.0  \n",
       "17704               73735.0         15.0      0.0  51.0  \n",
       "17705               73750.0         29.0      0.0  51.0  \n",
       "\n",
       "[17706 rows x 48 columns]"
      ]
     },
     "execution_count": 25,
     "metadata": {},
     "output_type": "execute_result"
    }
   ],
   "source": [
    "df_raw = pd.read_csv(file_path)\n",
    "df_raw"
   ]
  },
  {
   "cell_type": "code",
   "execution_count": 28,
   "id": "2624ea62-1568-41f0-9708-844ca41aef7f",
   "metadata": {},
   "outputs": [
    {
     "name": "stdout",
     "output_type": "stream",
     "text": [
      "📂 LOADING YOUR DATA\n",
      "------------------------------\n",
      "✅ Data loaded successfully!\n",
      "📊 Total tickets: 17,706\n",
      "📅 Columns available: 48\n"
     ]
    }
   ],
   "source": [
    "print(\"📂 LOADING YOUR DATA\")\n",
    "print(\"-\" * 30)\n",
    "\n",
    "df = df_raw.copy()  # Make a copy so we don't mess up the original\n",
    "\n",
    "print(f\"✅ Data loaded successfully!\")\n",
    "print(f\"📊 Total tickets: {len(df):,}\")\n",
    "print(f\"📅 Columns available: {len(df.columns)}\")"
   ]
  },
  {
   "cell_type": "code",
   "execution_count": 35,
   "id": "50a5253e-b0d8-4af7-803c-94f10090ace9",
   "metadata": {},
   "outputs": [
    {
     "data": {
      "text/plain": [
       "(17706, 48)"
      ]
     },
     "execution_count": 35,
     "metadata": {},
     "output_type": "execute_result"
    }
   ],
   "source": [
    "df.shape"
   ]
  },
  {
   "cell_type": "code",
   "execution_count": 46,
   "id": "ffd6ca3f-21b5-4411-a040-2a669d799f3b",
   "metadata": {},
   "outputs": [
    {
     "name": "stdout",
     "output_type": "stream",
     "text": [
      "🏥 DATA HEALTH CHECK\n",
      "------------------------------\n",
      "📏 Data size: 17,706 rows × 48 columns\n"
     ]
    }
   ],
   "source": [
    "print(\"🏥 DATA HEALTH CHECK\")\n",
    "print(\"-\" * 30)\n",
    "\n",
    "# Check the shape of our data\n",
    "rows, columns = df.shape\n",
    "print(f\"📏 Data size: {rows:,} rows × {columns} columns\")"
   ]
  },
  {
   "cell_type": "code",
   "execution_count": 47,
   "id": "1a5bc306-bccb-4cd4-bfa4-8111e9162c6e",
   "metadata": {},
   "outputs": [
    {
     "data": {
      "text/plain": [
       "ticketid                        0\n",
       "Ticket                          0\n",
       "CreationDate                    0\n",
       "LastUpdated                     0\n",
       "Type                            0\n",
       "State                           0\n",
       "Priority                        0\n",
       "Source                          0\n",
       "User                            0\n",
       "AssignedAgent                   0\n",
       "UserLastNote                    0\n",
       "icon                            0\n",
       "Subject                         0\n",
       "BU                           7771\n",
       "BusinessFunction             7773\n",
       "CaseCategory                 7510\n",
       "Resolution                      0\n",
       "Fiscal Year                     0\n",
       "Quarter                         0\n",
       "Month                           0\n",
       "Ageing Bucket                   0\n",
       "Ageing                          0\n",
       "Day                             0\n",
       "Year Month order                0\n",
       "yearMonth                       0\n",
       "Agent                           0\n",
       "Entity                          0\n",
       "creationDateTest                0\n",
       "CustomBU                        0\n",
       "Ageing_LastUpdated              0\n",
       "Aging Bucket Last_Updated       0\n",
       "Deadline                     9190\n",
       "DeadlineToToday               170\n",
       "Days                         9190\n",
       "resp1                        1322\n",
       "D                            9190\n",
       "DevOnly                         0\n",
       "User EmailID                   48\n",
       "Agent EmailID                   0\n",
       "ClosureTime                  9271\n",
       "SLA_Response_Time             602\n",
       "SLA_Resolution_Time           602\n",
       "LoginID                      9185\n",
       "AA                              0\n",
       "TimeDifferenceMinutes         170\n",
       "resp_minutes                 1288\n",
       "resp_hrs                     1288\n",
       "DD                            170\n",
       "dtype: int64"
      ]
     },
     "execution_count": 47,
     "metadata": {},
     "output_type": "execute_result"
    }
   ],
   "source": [
    "df.isnull().sum()"
   ]
  },
  {
   "cell_type": "code",
   "execution_count": 53,
   "id": "cd3b3a45-52e4-415a-b8fa-584232b6cd8c",
   "metadata": {},
   "outputs": [
    {
     "name": "stdout",
     "output_type": "stream",
     "text": [
      "\n",
      "🔍 Missing data check:\n",
      "⚠️  Columns with missing data:\n",
      "   • BU =>  7,771 missing (43.9%)\n",
      "   • BusinessFunction =>  7,773 missing (43.9%)\n",
      "   • CaseCategory =>  7,510 missing (42.4%)\n",
      "   • Deadline =>  9,190 missing (51.9%)\n",
      "   • DeadlineToToday =>  170 missing (1.0%)\n",
      "   • Days =>  9,190 missing (51.9%)\n",
      "   • resp1 =>  1,322 missing (7.5%)\n",
      "   • D =>  9,190 missing (51.9%)\n",
      "   • User EmailID =>  48 missing (0.3%)\n",
      "   • ClosureTime =>  9,271 missing (52.4%)\n",
      "   • SLA_Response_Time =>  602 missing (3.4%)\n",
      "   • SLA_Resolution_Time =>  602 missing (3.4%)\n",
      "   • LoginID =>  9,185 missing (51.9%)\n",
      "   • TimeDifferenceMinutes =>  170 missing (1.0%)\n",
      "   • resp_minutes =>  1,288 missing (7.3%)\n",
      "   • resp_hrs =>  1,288 missing (7.3%)\n",
      "   • DD =>  170 missing (1.0%)\n"
     ]
    }
   ],
   "source": [
    "print(\"\\n🔍 Missing data check:\")\n",
    "missing_data = df.isnull().sum()\n",
    "columns_with_missing = missing_data[missing_data > 0]\n",
    "\n",
    "if len(columns_with_missing) > 0:\n",
    "    print(\"⚠️  Columns with missing data:\")\n",
    "    for column, count in columns_with_missing.items():\n",
    "        percentage = (count / len(df)) * 100\n",
    "        print(f\"   • {column} =>  {count:,} missing ({percentage:.1f}%)\")\n",
    "else:\n",
    "    print(\"✅ No missing data found!\")"
   ]
  },
  {
   "cell_type": "code",
   "execution_count": 54,
   "id": "af356ae7-021e-48e6-99cb-ce18c4bee427",
   "metadata": {},
   "outputs": [
    {
     "name": "stdout",
     "output_type": "stream",
     "text": [
      "\n",
      "📋 Data types:\n",
      "   • Numbers: 14 columns\n",
      "   • Text: 34 columns\n"
     ]
    }
   ],
   "source": [
    "# Check data types\n",
    "print(f\"\\n📋 Data types:\")\n",
    "print(f\"   • Numbers: {len(df.select_dtypes(include=[np.number]).columns)} columns\")\n",
    "print(f\"   • Text: {len(df.select_dtypes(include=['object']).columns)} columns\")"
   ]
  },
  {
   "cell_type": "markdown",
   "id": "441acd3b-9bbe-4d12-bdca-ea008ceada6c",
   "metadata": {},
   "source": [
    "# 💼 ANSWERING KEY BUSINESS QUESTIONS"
   ]
  },
  {
   "cell_type": "markdown",
   "id": "21d41376-d058-4e74-93cb-d3b9fb75dedb",
   "metadata": {},
   "source": [
    "### # Question 1: How many tickets do we have?"
   ]
  },
  {
   "cell_type": "code",
   "execution_count": 56,
   "id": "945ecc5a-6604-427a-86e1-7839813b9037",
   "metadata": {},
   "outputs": [
    {
     "name": "stdout",
     "output_type": "stream",
     "text": [
      "1️⃣ Total tickets in system: 17,706\n"
     ]
    }
   ],
   "source": [
    "total_tickets = len(df)\n",
    "print(f\"1️⃣ Total tickets in system: {total_tickets:,}\")\n"
   ]
  },
  {
   "cell_type": "markdown",
   "id": "07e8297c-4d77-4b75-8edb-cb65acad8b14",
   "metadata": {},
   "source": [
    "### # Question 2: What's the current status of tickets?"
   ]
  },
  {
   "cell_type": "code",
   "execution_count": 60,
   "id": "d9beb50d-8244-46fe-beeb-61458e14002e",
   "metadata": {},
   "outputs": [
    {
     "data": {
      "text/plain": [
       "State\n",
       "Closed            9101\n",
       "Resolved by IT    8435\n",
       "Awaiting Reply     113\n",
       "In Progress         48\n",
       "On Hold              9\n",
       "Name: count, dtype: int64"
      ]
     },
     "execution_count": 60,
     "metadata": {},
     "output_type": "execute_result"
    }
   ],
   "source": [
    "df.State.value_counts()"
   ]
  },
  {
   "cell_type": "code",
   "execution_count": 57,
   "id": "9fb907d6-915f-42cd-b804-4baaeb082aed",
   "metadata": {},
   "outputs": [
    {
     "name": "stdout",
     "output_type": "stream",
     "text": [
      "\n",
      "2️⃣ Current ticket status:\n",
      "   • Closed: 9,101 tickets (51.4%)\n",
      "   • Resolved by IT: 8,435 tickets (47.6%)\n",
      "   • Awaiting Reply: 113 tickets (0.6%)\n",
      "   • In Progress: 48 tickets (0.3%)\n",
      "   • On Hold: 9 tickets (0.1%)\n"
     ]
    }
   ],
   "source": [
    "print(f\"\\n2️⃣ Current ticket status:\")\n",
    "status_counts = df['State'].value_counts()\n",
    "for status, count in status_counts.items():\n",
    "    percentage = (count / total_tickets) * 100\n",
    "    print(f\"   • {status}: {count:,} tickets ({percentage:.1f}%)\")\n"
   ]
  },
  {
   "cell_type": "markdown",
   "id": "1ed36e4e-8324-4d22-b00f-e1de3e47303f",
   "metadata": {},
   "source": [
    "### # Question 3: What types of problems do we see most?"
   ]
  },
  {
   "cell_type": "code",
   "execution_count": 62,
   "id": "9be78901-c804-480f-8773-cd717ee4e6b8",
   "metadata": {},
   "outputs": [
    {
     "data": {
      "text/plain": [
       "Type\n",
       "Application Support        14659\n",
       "Infrastructure Support      2409\n",
       "HPPR                         602\n",
       "Application Development       36\n",
       "Name: count, dtype: int64"
      ]
     },
     "execution_count": 62,
     "metadata": {},
     "output_type": "execute_result"
    }
   ],
   "source": [
    "df.Type.value_counts()"
   ]
  },
  {
   "cell_type": "code",
   "execution_count": 61,
   "id": "ae579a78-fcd9-4682-9baf-d63e94a9bcbb",
   "metadata": {},
   "outputs": [
    {
     "name": "stdout",
     "output_type": "stream",
     "text": [
      "\n",
      "3️⃣ Most common ticket types:\n",
      "   • Application Support: 14,659 tickets (82.8%)\n",
      "   • Infrastructure Support: 2,409 tickets (13.6%)\n",
      "   • HPPR: 602 tickets (3.4%)\n",
      "   • Application Development: 36 tickets (0.2%)\n"
     ]
    }
   ],
   "source": [
    "print(f\"\\n3️⃣ Most common ticket types:\")\n",
    "top_types = df['Type'].value_counts().head(5)\n",
    "for ticket_type, count in top_types.items():\n",
    "    percentage = (count / total_tickets) * 100\n",
    "    print(f\"   • {ticket_type}: {count:,} tickets ({percentage:.1f}%)\")"
   ]
  },
  {
   "cell_type": "markdown",
   "id": "04608eac-3244-48d7-9bab-7c4f68220abf",
   "metadata": {},
   "source": [
    "### # Question 4: How urgent are our tickets?"
   ]
  },
  {
   "cell_type": "code",
   "execution_count": 64,
   "id": "cb430d18-4b5f-4817-84bd-9dd1985c7c4a",
   "metadata": {},
   "outputs": [
    {
     "data": {
      "text/plain": [
       "Priority\n",
       "Medium      17697\n",
       "High            7\n",
       "Critical        2\n",
       "Name: count, dtype: int64"
      ]
     },
     "execution_count": 64,
     "metadata": {},
     "output_type": "execute_result"
    }
   ],
   "source": [
    "df['Priority'].value_counts()"
   ]
  },
  {
   "cell_type": "code",
   "execution_count": 65,
   "id": "d6057c97-079d-4c25-957b-f8afba1365df",
   "metadata": {},
   "outputs": [
    {
     "name": "stdout",
     "output_type": "stream",
     "text": [
      "\n",
      "4️⃣ Ticket priorities:\n",
      "   • Medium: 17,697 tickets (99.9%)\n",
      "   • High: 7 tickets (0.0%)\n",
      "   • Critical: 2 tickets (0.0%)\n"
     ]
    }
   ],
   "source": [
    "print(f\"\\n4️⃣ Ticket priorities:\")\n",
    "priority_counts = df['Priority'].value_counts()\n",
    "for priority, count in priority_counts.items():\n",
    "    percentage = (count / total_tickets) * 100\n",
    "    print(f\"   • {priority}: {count:,} tickets ({percentage:.1f}%)\")"
   ]
  },
  {
   "cell_type": "markdown",
   "id": "69056ace-f073-4a20-a15d-1bcb3074ddee",
   "metadata": {},
   "source": [
    "### # Question 5: How long do tickets take to resolve?"
   ]
  },
  {
   "cell_type": "code",
   "execution_count": 67,
   "id": "4339b819-0de2-4aba-98ab-628593be31ae",
   "metadata": {},
   "outputs": [
    {
     "data": {
      "text/plain": [
       "Ageing\n",
       "-280    443\n",
       "-278    436\n",
       "-309    434\n",
       "-316    419\n",
       "-274    406\n",
       "       ... \n",
       "-163      1\n",
       "-136      1\n",
       "-373      1\n",
       "-115      1\n",
       "-164      1\n",
       "Name: count, Length: 343, dtype: int64"
      ]
     },
     "execution_count": 67,
     "metadata": {},
     "output_type": "execute_result"
    }
   ],
   "source": [
    "df.Ageing.value_counts()"
   ]
  },
  {
   "cell_type": "code",
   "execution_count": 68,
   "id": "47ffba3e-fa5c-431f-93ef-92f8dbd71455",
   "metadata": {},
   "outputs": [
    {
     "name": "stdout",
     "output_type": "stream",
     "text": [
      "\n",
      "5️⃣ Resolution times:\n",
      "   • Average: -243.4 days\n",
      "   • Fastest: -395 days\n",
      "   • Slowest: -31 days\n"
     ]
    }
   ],
   "source": [
    "avg_age = df['Ageing'].mean()\n",
    "max_age = df['Ageing'].max()\n",
    "min_age = df['Ageing'].min()\n",
    "\n",
    "print(f\"\\n5️⃣ Resolution times:\")\n",
    "print(f\"   • Average: {avg_age:.1f} days\")\n",
    "print(f\"   • Fastest: {min_age} days\")\n",
    "print(f\"   • Slowest: {max_age} days\")"
   ]
  },
  {
   "cell_type": "markdown",
   "id": "dbd96176-ee86-440b-9f9c-192a72ad02d2",
   "metadata": {},
   "source": [
    "# Identify Problem Areas"
   ]
  },
  {
   "cell_type": "code",
   "execution_count": 69,
   "id": "c6b7453f-7ead-4416-b74f-9f405beb82bb",
   "metadata": {},
   "outputs": [
    {
     "name": "stdout",
     "output_type": "stream",
     "text": [
      "1️⃣ Old tickets (>30 days): 0\n"
     ]
    }
   ],
   "source": [
    "# Find old tickets that need attention\n",
    "old_tickets = df[df['Ageing'] > 30]  # Tickets older than 30 days\n",
    "print(f\"1️⃣ Old tickets (>30 days): {len(old_tickets):,}\")\n",
    "\n",
    "if len(old_tickets) > 0:\n",
    "    print(\"   📋 Breakdown by type:\")\n",
    "    old_by_type = old_tickets['Type'].value_counts().head(3)\n",
    "    for ticket_type, count in old_by_type.items():\n",
    "        print(f\"      • {ticket_type}: {count} tickets\")\n"
   ]
  },
  {
   "cell_type": "code",
   "execution_count": 72,
   "id": "59afbc51-9d8a-4f6c-8e34-806b1056a480",
   "metadata": {},
   "outputs": [
    {
     "name": "stdout",
     "output_type": "stream",
     "text": [
      "2️⃣ High priority tickets: 9\n"
     ]
    }
   ],
   "source": [
    "# Find high priority tickets\n",
    "high_priority = df[df['Priority'].str.contains('High|Critical|Urgent', case=False, na=False)]\n",
    "print(f\"2️⃣ High priority tickets: {len(high_priority):,}\")"
   ]
  },
  {
   "cell_type": "code",
   "execution_count": 76,
   "id": "e7c5aca7-e973-4b74-aca4-41c332f302cb",
   "metadata": {},
   "outputs": [
    {
     "data": {
      "text/plain": [
       "AssignedAgent\n",
       "Ashok Wagh            11509\n",
       "Ramamurthy S           1422\n",
       "Khushal Bhoir           747\n",
       "Disha Meisheri          686\n",
       "Ashwini Jahagirdar      646\n",
       "Ashutosh Tripathi       581\n",
       "Dimple Solanki          507\n",
       "Nilesh Khaire           502\n",
       "SRINIVAS Poojari        493\n",
       "Sushant Kamble          271\n",
       "Rekha Sunil Kumar       179\n",
       "Pooja Bansal            142\n",
       "Deepak Sharma            10\n",
       "HP\\julio.gomez            5\n",
       "Pooja Dixit               5\n",
       "Harshraj Singh            1\n",
       "Name: count, dtype: int64"
      ]
     },
     "execution_count": 76,
     "metadata": {},
     "output_type": "execute_result"
    }
   ],
   "source": [
    "df['AssignedAgent'].value_counts()"
   ]
  },
  {
   "cell_type": "code",
   "execution_count": 77,
   "id": "4cc20311-fae1-4287-b560-56d13bf3e15e",
   "metadata": {},
   "outputs": [
    {
     "name": "stdout",
     "output_type": "stream",
     "text": [
      "3️⃣ Agent workload analysis:\n",
      "   • Total agents: 16\n",
      "   • Average tickets per agent: 1106.6\n",
      "   • Busiest agent has: 11509 tickets\n",
      "   • Least busy agent has: 1 tickets\n",
      "\n",
      "   📊 Top 3 busiest agents:\n",
      "      1. Ashok Wagh: 11509 tickets\n",
      "      2. Ramamurthy S: 1422 tickets\n",
      "      3. Khushal Bhoir: 747 tickets\n"
     ]
    }
   ],
   "source": [
    "# Check agent workload\n",
    "print(f\"3️⃣ Agent workload analysis:\")\n",
    "agent_workload = df['AssignedAgent'].value_counts()\n",
    "avg_tickets_per_agent = agent_workload.mean()\n",
    "max_tickets = agent_workload.max()\n",
    "min_tickets = agent_workload.min()\n",
    "\n",
    "print(f\"   • Total agents: {len(agent_workload)}\")\n",
    "print(f\"   • Average tickets per agent: {avg_tickets_per_agent:.1f}\")\n",
    "print(f\"   • Busiest agent has: {max_tickets} tickets\")\n",
    "print(f\"   • Least busy agent has: {min_tickets} tickets\")"
   ]
  },
  {
   "cell_type": "code",
   "execution_count": 86,
   "id": "d603114f-7791-4f5b-b632-f44f90c7519a",
   "metadata": {},
   "outputs": [
    {
     "name": "stdout",
     "output_type": "stream",
     "text": [
      "\n",
      "   Top 3 busiest agents:\n",
      "      1. Ashok Wagh: 11509 tickets\n",
      "      2. Ramamurthy S: 1422 tickets\n",
      "      3. Khushal Bhoir: 747 tickets\n"
     ]
    }
   ],
   "source": [
    "# Show top 3 busiest agents\n",
    "print(f\"\\n   📊 Top 3 busiest agents:\")\n",
    "for i, (agent, count) in enumerate(agent_workload.head(3).items(), 1):\n",
    "    print(f\"      {i}. {agent}: {count} tickets\")"
   ]
  },
  {
   "cell_type": "markdown",
   "id": "6c103024-dfc7-4b0c-8be3-ff6af59d3d40",
   "metadata": {},
   "source": [
    "# Create Visual Charts"
   ]
  },
  {
   "cell_type": "code",
   "execution_count": 87,
   "id": "7f802f7a-c5a5-4058-953e-7874d130d954",
   "metadata": {},
   "outputs": [
    {
     "data": {
      "image/png": "[encoded data removed]",
      "text/plain": [
       "<Figure size 1500x1000 with 4 Axes>"
      ]
     },
     "metadata": {},
     "output_type": "display_data"
    },
    {
     "name": "stdout",
     "output_type": "stream",
     "text": [
      "✅ Charts created successfully!\n"
     ]
    }
   ],
   "source": [
    "# Set up the plotting style\n",
    "plt.style.use('default')\n",
    "plt.rcParams['figure.figsize'] = (15, 10)\n",
    "\n",
    "# Create a dashboard with 4 charts\n",
    "fig, ((ax1, ax2), (ax3, ax4)) = plt.subplots(2, 2, figsize=(15, 10))\n",
    "\n",
    "# Chart 1: Ticket Status Distribution\n",
    "status_counts = df['State'].value_counts()\n",
    "colors = ['#ff9999', '#66b3ff', '#99ff99', '#ffcc99']\n",
    "ax1.pie(status_counts.values, labels=status_counts.index, autopct='%1.1f%%', \n",
    "        colors=colors[:len(status_counts)])\n",
    "ax1.set_title('📊 Ticket Status Distribution', fontsize=12, fontweight='bold')\n",
    "\n",
    "# Chart 2: Top 5 Ticket Types\n",
    "top_types = df['Type'].value_counts().head(5)\n",
    "ax2.bar(range(len(top_types)), top_types.values, color='skyblue')\n",
    "ax2.set_title('📋 Top 5 Ticket Types', fontsize=12, fontweight='bold')\n",
    "ax2.set_xticks(range(len(top_types)))\n",
    "ax2.set_xticklabels(top_types.index, rotation=45, ha='right')\n",
    "ax2.set_ylabel('Number of Tickets')\n",
    "\n",
    "# Chart 3: Priority Distribution\n",
    "priority_counts = df['Priority'].value_counts()\n",
    "colors_priority = ['red', 'orange', 'yellow', 'green']\n",
    "ax3.bar(priority_counts.index, priority_counts.values, \n",
    "        color=colors_priority[:len(priority_counts)])\n",
    "ax3.set_title('⚡ Priority Distribution', fontsize=12, fontweight='bold')\n",
    "ax3.set_ylabel('Number of Tickets')\n",
    "ax3.tick_params(axis='x', rotation=45)\n",
    "\n",
    "# Chart 4: Agent Workload (Top 10)\n",
    "top_agents = df['AssignedAgent'].value_counts().head(10)\n",
    "ax4.barh(range(len(top_agents)), top_agents.values, color='lightcoral')\n",
    "ax4.set_title('👥 Top 10 Agents by Ticket Count', fontsize=12, fontweight='bold')\n",
    "ax4.set_yticks(range(len(top_agents)))\n",
    "ax4.set_yticklabels(top_agents.index)\n",
    "ax4.set_xlabel('Number of Tickets')\n",
    "\n",
    "plt.tight_layout()\n",
    "plt.show()\n",
    "\n",
    "print(\"✅ Charts created successfully!\")"
   ]
  },
  {
   "cell_type": "markdown",
   "id": "396017fd-b080-4f01-b9fe-8b4e4e23a0c8",
   "metadata": {},
   "source": [
    "# Generate Action Plan"
   ]
  },
  {
   "cell_type": "code",
   "execution_count": 88,
   "id": "389ecc52-d2f4-4156-bbaa-70d0a620c0bb",
   "metadata": {},
   "outputs": [
    {
     "name": "stdout",
     "output_type": "stream",
     "text": [
      "📊 KEY METRICS:\n",
      "   • Total tickets: 17,706\n",
      "   • Open tickets: 8,605\n",
      "   • Old tickets (>30 days): 0\n",
      "   • High priority tickets: 9\n"
     ]
    }
   ],
   "source": [
    "# Calculate key metrics for recommendations\n",
    "total_tickets = len(df)\n",
    "open_tickets = len(df[df['State'] != 'Closed'])\n",
    "old_tickets = len(df[df['Ageing'] > 30])\n",
    "high_priority = len(df[df['Priority'].str.contains('High|Critical|Urgent', case=False, na=False)])\n",
    "\n",
    "print(\"📊 KEY METRICS:\")\n",
    "print(f\"   • Total tickets: {total_tickets:,}\")\n",
    "print(f\"   • Open tickets: {open_tickets:,}\")\n",
    "print(f\"   • Old tickets (>30 days): {old_tickets:,}\")\n",
    "print(f\"   • High priority tickets: {high_priority:,}\")\n"
   ]
  },
  {
   "cell_type": "code",
   "execution_count": 89,
   "id": "e302ca33-caeb-4f3e-b2d4-8c54466bd064",
   "metadata": {},
   "outputs": [],
   "source": [
    "# Action 1: Address old tickets\n",
    "if old_tickets > 0:\n",
    "    print(f\"1️⃣ URGENT: Focus on {old_tickets} old tickets\")\n",
    "    print(f\"   • These tickets are hurting customer satisfaction\")\n",
    "    print(f\"   • Assign dedicated resources to clear backlog\")\n",
    "    \n",
    "    # Show which types are oldest\n",
    "    old_ticket_types = df[df['Ageing'] > 30]['Type'].value_counts().head(3)\n",
    "    print(f\"   • Focus on these types first:\")\n",
    "    for i, (ticket_type, count) in enumerate(old_ticket_types.items(), 1):\n",
    "        print(f\"      {i}. {ticket_type}: {count} tickets\")"
   ]
  },
  {
   "cell_type": "code",
   "execution_count": 90,
   "id": "6c820f0e-2721-4e55-8951-22981824dd30",
   "metadata": {},
   "outputs": [
    {
     "name": "stdout",
     "output_type": "stream",
     "text": [
      "\n",
      "2️⃣ BALANCE WORKLOAD:\n",
      "   • Redistribute tickets from busiest agents\n",
      "   • Busiest agent: Ashok Wagh (11509 tickets)\n",
      "   • Consider additional training or resources\n"
     ]
    }
   ],
   "source": [
    "# Action 2: Balance agent workload\n",
    "agent_workload = df['AssignedAgent'].value_counts()\n",
    "workload_imbalance = agent_workload.max() - agent_workload.min()\n",
    "\n",
    "if workload_imbalance > 50:  # If difference is more than 50 tickets\n",
    "    print(f\"\\n2️⃣ BALANCE WORKLOAD:\")\n",
    "    print(f\"   • Redistribute tickets from busiest agents\")\n",
    "    print(f\"   • Busiest agent: {agent_workload.index[0]} ({agent_workload.iloc[0]} tickets)\")\n",
    "    print(f\"   • Consider additional training or resources\")\n"
   ]
  },
  {
   "cell_type": "code",
   "execution_count": 91,
   "id": "877d2a42-85db-4a58-866f-031a72d8447a",
   "metadata": {},
   "outputs": [
    {
     "name": "stdout",
     "output_type": "stream",
     "text": [
      "\n",
      "3️⃣ PROCESS IMPROVEMENT:\n",
      "   • Investigate 'Application Support' tickets (14,659 tickets)\n",
      "   • This is your highest volume - automate if possible\n",
      "   • Create better documentation/self-service options\n"
     ]
    }
   ],
   "source": [
    "# Action 3: Process improvements\n",
    "most_common_type = df['Type'].value_counts().index[0]\n",
    "most_common_count = df['Type'].value_counts().iloc[0]\n",
    "\n",
    "print(f\"\\n3️⃣ PROCESS IMPROVEMENT:\")\n",
    "print(f\"   • Investigate '{most_common_type}' tickets ({most_common_count:,} tickets)\")\n",
    "print(f\"   • This is your highest volume - automate if possible\")\n",
    "print(f\"   • Create better documentation/self-service options\")\n"
   ]
  },
  {
   "cell_type": "code",
   "execution_count": 92,
   "id": "aa0994e7-62f3-483e-bc7f-19255e7d361a",
   "metadata": {},
   "outputs": [
    {
     "name": "stdout",
     "output_type": "stream",
     "text": [
      "\n",
      "💡 SUCCESS METRICS TO TRACK:\n",
      "   • Reduce old tickets by 50% in 30 days\n",
      "   • Improve average resolution time to <7 days\n",
      "   • Balance agent workload (max difference <30 tickets)\n",
      "   • Increase customer satisfaction scores\n"
     ]
    }
   ],
   "source": [
    "# Action 4: Performance monitoring\n",
    "avg_resolution = df['Ageing'].mean()\n",
    "if avg_resolution > 10:\n",
    "    print(f\"\\n4️⃣ IMPROVE RESOLUTION TIME:\")\n",
    "    print(f\"   • Current average: {avg_resolution:.1f} days\")\n",
    "    print(f\"   • Target: Under 7 days\")\n",
    "    print(f\"   • Review processes for common ticket types\")\n",
    "\n",
    "print(f\"\\n💡 SUCCESS METRICS TO TRACK:\")\n",
    "print(f\"   • Reduce old tickets by 50% in 30 days\")\n",
    "print(f\"   • Improve average resolution time to <7 days\")\n",
    "print(f\"   • Balance agent workload (max difference <30 tickets)\")\n",
    "print(f\"   • Increase customer satisfaction scores\")"
   ]
  },
  {
   "cell_type": "markdown",
   "id": "98b7fd65-ebb8-4521-baee-db4702465942",
   "metadata": {},
   "source": [
    "# Monthly Trend Analysis"
   ]
  },
  {
   "cell_type": "code",
   "execution_count": 93,
   "id": "759fed68-fc1a-45b3-9328-ad1b2941dc78",
   "metadata": {},
   "outputs": [
    {
     "name": "stdout",
     "output_type": "stream",
     "text": [
      "📈 MONTHLY TREND ANALYSIS\n",
      "------------------------------\n",
      "📅 Tickets created by month:\n",
      "   • 2023-10: 1,271 tickets\n",
      "   • 2023-11: 634 tickets\n",
      "   • 2023-12: 618 tickets\n",
      "   • 2024-01: 779 tickets\n",
      "   • 2024-02: 718 tickets\n",
      "   • 2024-03: 662 tickets\n"
     ]
    }
   ],
   "source": [
    "print(\"📈 MONTHLY TREND ANALYSIS\")\n",
    "print(\"-\" * 30)\n",
    "\n",
    "# Convert creation date to datetime if it's not already\n",
    "df['CreationDate_Clean'] = pd.to_datetime(df['CreationDate'], errors='coerce')\n",
    "\n",
    "# Create monthly summary\n",
    "df['Month_Year'] = df['CreationDate_Clean'].dt.to_period('M')\n",
    "monthly_tickets = df.groupby('Month_Year').size()\n",
    "\n",
    "print(f\"📅 Tickets created by month:\")\n",
    "for month, count in monthly_tickets.tail(6).items():  # Show last 6 months\n",
    "    print(f\"   • {month}: {count:,} tickets\")\n"
   ]
  },
  {
   "cell_type": "code",
   "execution_count": 96,
   "id": "83f69f3d-9be0-4104-a2fe-d372a69c459a",
   "metadata": {},
   "outputs": [
    {
     "data": {
      "image/png": "[encoded data removed]",
      "text/plain": [
       "<Figure size 800x400 with 1 Axes>"
      ]
     },
     "metadata": {},
     "output_type": "display_data"
    }
   ],
   "source": [
    "# Create trend chart\n",
    "plt.figure(figsize=(8, 4))\n",
    "monthly_tickets.plot(kind='line', marker='o', linewidth=2, markersize=6)\n",
    "plt.title('📈 Monthly Ticket Creation Trend', fontsize=14, fontweight='bold')\n",
    "plt.xlabel('Month')\n",
    "plt.ylabel('Number of Tickets')\n",
    "plt.grid(True, alpha=0.3)\n",
    "plt.xticks(rotation=45)\n",
    "plt.tight_layout()\n",
    "plt.show()"
   ]
  },
  {
   "cell_type": "code",
   "execution_count": 97,
   "id": "c6d66c29-80e7-4154-9c1f-14f8bc4f56bc",
   "metadata": {},
   "outputs": [
    {
     "name": "stdout",
     "output_type": "stream",
     "text": [
      "📊 TREND: DECREASING (-47.6%)\n",
      "   ✅ Ticket volume is improving\n"
     ]
    }
   ],
   "source": [
    "# Identify trends\n",
    "recent_avg = monthly_tickets.tail(3).mean()\n",
    "earlier_avg = monthly_tickets.head(3).mean()\n",
    "\n",
    "if recent_avg > earlier_avg:\n",
    "    trend = \"INCREASING\"\n",
    "    print(f\"📊 TREND: {trend} (+{((recent_avg/earlier_avg-1)*100):.1f}%)\")\n",
    "    print(\"   ⚠️  Ticket volume is growing - consider capacity planning\")\n",
    "elif recent_avg < earlier_avg:\n",
    "    trend = \"DECREASING\"\n",
    "    print(f\"📊 TREND: {trend} ({((recent_avg/earlier_avg-1)*100):.1f}%)\")\n",
    "    print(\"   ✅ Ticket volume is improving\")\n",
    "else:\n",
    "    print(\"📊 TREND: STABLE\")\n",
    "    print(\"   ➡️  Ticket volume is consistent\")\n"
   ]
  },
  {
   "cell_type": "markdown",
   "id": "cb54bef3-b254-462a-90ee-2831fc37a893",
   "metadata": {},
   "source": [
    "# Final Summary Report"
   ]
  },
  {
   "cell_type": "code",
   "execution_count": 98,
   "id": "7c2cb1ab-e293-419b-a52a-3fd02ae4aa14",
   "metadata": {},
   "outputs": [
    {
     "name": "stdout",
     "output_type": "stream",
     "text": [
      "==================================================\n",
      "🏢 IT HELPDESK PERFORMANCE SUMMARY\n",
      "   Report Date: 2025-07-30\n",
      "   Analysis Period: 1/1/2024 10:03 to 9/9/2023 9:43\n",
      "\n",
      "📊 KEY PERFORMANCE INDICATORS:\n",
      "   • Total Tickets Processed: 17,706\n",
      "   • Closure Rate: 51.4%\n",
      "   • Average Resolution Time: -243.4 days\n",
      "   • Active Agents: 16\n"
     ]
    }
   ],
   "source": [
    "print(\"=\" * 50)\n",
    "\n",
    "# Executive summary\n",
    "total_tickets = len(df)\n",
    "closure_rate = (len(df[df['State'] == 'Closed']) / total_tickets) * 100\n",
    "avg_resolution = df['Ageing'].mean()\n",
    "\n",
    "print(f\"🏢 IT HELPDESK PERFORMANCE SUMMARY\")\n",
    "print(f\"   Report Date: {datetime.now().strftime('%Y-%m-%d')}\")\n",
    "print(f\"   Analysis Period: {df['CreationDate'].min()} to {df['CreationDate'].max()}\")\n",
    "\n",
    "print(f\"\\n📊 KEY PERFORMANCE INDICATORS:\")\n",
    "print(f\"   • Total Tickets Processed: {total_tickets:,}\")\n",
    "print(f\"   • Closure Rate: {closure_rate:.1f}%\")\n",
    "print(f\"   • Average Resolution Time: {avg_resolution:.1f} days\")\n",
    "print(f\"   • Active Agents: {df['AssignedAgent'].nunique()}\")\n"
   ]
  },
  {
   "cell_type": "code",
   "execution_count": 100,
   "id": "82a28c87-1d85-45fd-bdb8-f643669a3c94",
   "metadata": {},
   "outputs": [
    {
     "name": "stdout",
     "output_type": "stream",
     "text": [
      "\n",
      "🎯 OVERALL PERFORMANCE: CRITICAL ACTION REQUIRED 🚨\n",
      "\n",
      "📈 RECOMMENDATIONS FOR NEXT 30 DAYS:\n",
      "   1. Reduce tickets >30 days old by 50%\n",
      "   2. Improve average resolution time to <10 days\n",
      "   3. Balance agent workloads\n",
      "   4. Focus on top 3 ticket types for process improvement\n",
      "\n",
      "✅ ANALYSIS COMPLETE!\n",
      "   This analysis identified key areas for operational improvement\n",
      "   Use these insights to drive data-based decisions\n",
      "   Re-run this analysis monthly to track progress\n"
     ]
    }
   ],
   "source": [
    "# Performance rating\n",
    "if closure_rate >= 90 and avg_resolution <= 7:\n",
    "    rating = \"EXCELLENT 🌟\"\n",
    "elif closure_rate >= 80 and avg_resolution <= 14:\n",
    "    rating = \"GOOD 👍\"\n",
    "elif closure_rate >= 70 and avg_resolution <= 21:\n",
    "    rating = \"NEEDS IMPROVEMENT ⚠️\"\n",
    "else:\n",
    "    rating = \"CRITICAL ACTION REQUIRED 🚨\"\n",
    "\n",
    "print(f\"\\n🎯 OVERALL PERFORMANCE: {rating}\")\n",
    "\n",
    "print(f\"\\n📈 RECOMMENDATIONS FOR NEXT 30 DAYS:\")\n",
    "print(f\"   1. Reduce tickets >30 days old by 50%\")\n",
    "print(f\"   2. Improve average resolution time to <10 days\")\n",
    "print(f\"   3. Balance agent workloads\")\n",
    "print(f\"   4. Focus on top 3 ticket types for process improvement\")"
   ]
  },
  {
   "cell_type": "code",
   "execution_count": 101,
   "id": "62681abd-b551-43bd-9738-48c1e9b404c7",
   "metadata": {},
   "outputs": [
    {
     "name": "stdout",
     "output_type": "stream",
     "text": [
      "\n",
      "✅ ANALYSIS COMPLETE!\n",
      "   This analysis identified key areas for operational improvement\n",
      "   Use these insights to drive data-based decisions\n",
      "   Re-run this analysis monthly to track progress\n"
     ]
    }
   ],
   "source": [
    "print(f\"\\n✅ ANALYSIS COMPLETE!\")\n",
    "print(f\"   This analysis identified key areas for operational improvement\")\n",
    "print(f\"   Use these insights to drive data-based decisions\")\n",
    "print(f\"   Re-run this analysis monthly to track progress\")"
   ]
  },
  {
   "cell_type": "code",
   "execution_count": null,
   "id": "5c5c78b7-848f-423e-9866-125a5d696841",
   "metadata": {},
   "outputs": [],
   "source": []
  }
 ],
 "metadata": {
  "kernelspec": {
   "display_name": "Python 3 (ipykernel)",
   "language": "python",
   "name": "python3"
  },
  "language_info": {
   "codemirror_mode": {
    "name": "ipython",
    "version": 3
   },
   "file_extension": ".py",
   "mimetype": "text/x-python",
   "name": "python",
   "nbconvert_exporter": "python",
   "pygments_lexer": "ipython3",
   "version": "3.13.5"
  }
 },
 "nbformat": 4,
 "nbformat_minor": 5
}
