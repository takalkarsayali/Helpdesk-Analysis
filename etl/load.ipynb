{
 "cells": [
  {
   "cell_type": "markdown",
   "id": "8f11ddf8-0da9-4be3-b761-a1b25b0bc219",
   "metadata": {},
   "source": [
    "# Load"
   ]
  },
  {
   "cell_type": "code",
   "execution_count": 37,
   "id": "908d2700-710d-417d-9f99-0cf2e35bb2dd",
   "metadata": {},
   "outputs": [],
   "source": [
    "# Import required libraries\n",
    "import os\n",
    "import pandas as pd\n",
    "import sqlite3"
   ]
  },
  {
   "cell_type": "code",
   "execution_count": 38,
   "id": "8c067423-0a97-4d9b-9593-a905c947dc38",
   "metadata": {},
   "outputs": [],
   "source": [
    "# File paths\n",
    "csv_file = os.path.join('..','data','tickets_transformed.csv')\n",
    "db_file = os.path.join('..','db', 'tickets.db')"
   ]
  },
  {
   "cell_type": "code",
   "execution_count": 39,
   "id": "6bf93b13-21fa-4680-8197-c5d14e6bd22e",
   "metadata": {},
   "outputs": [
    {
     "name": "stdout",
     "output_type": "stream",
     "text": [
      "..\\data\\tickets_transformed.csv\n",
      "..\\db\\tickets.db\n"
     ]
    }
   ],
   "source": [
    "print(csv_file)\n",
    "print(db_file)\n"
   ]
  },
  {
   "cell_type": "code",
   "execution_count": 40,
   "id": "977dc40c-b5b0-4719-90a9-0c5849407588",
   "metadata": {},
   "outputs": [],
   "source": [
    "# Load transformed CSV data\n",
    "df = pd.read_csv(csv_file)"
   ]
  },
  {
   "cell_type": "code",
   "execution_count": 41,
   "id": "c90ffdd4-d161-4371-9e82-c5ee1d9f250b",
   "metadata": {},
   "outputs": [],
   "source": [
    "# Create SQLite connection\n",
    "conn = sqlite3.connect(db_file)\n",
    "cursor = conn.cursor()"
   ]
  },
  {
   "cell_type": "code",
   "execution_count": 42,
   "id": "23c37927-d04f-4ee9-98a8-1534165d6cc7",
   "metadata": {},
   "outputs": [
    {
     "data": {
      "text/plain": [
       "17706"
      ]
     },
     "execution_count": 42,
     "metadata": {},
     "output_type": "execute_result"
    }
   ],
   "source": [
    "# Load data into a new SQLite table\n",
    "table_name = 'tickets'\n",
    "df.to_sql(table_name, conn, if_exists='replace', index=False)"
   ]
  },
  {
   "cell_type": "code",
   "execution_count": 43,
   "id": "e8a1a92c-8bbc-42aa-897b-feaf355a22de",
   "metadata": {},
   "outputs": [
    {
     "name": "stdout",
     "output_type": "stream",
     "text": [
      "   ticketid  ticket         creationdate          lastupdated  \\\n",
      "0     26250  #26250  2023-06-23 03:19:00  2023-06-23 10:51:00   \n",
      "1     26249  #26249  2023-06-23 03:19:00  2023-06-23 10:51:00   \n",
      "2     26248  #26248  2023-06-23 03:19:00  2023-06-23 10:51:00   \n",
      "3     26247  #26247  2023-06-23 03:19:00  2023-06-23 10:51:00   \n",
      "4     26246  #26246  2023-06-23 03:19:00  2023-06-23 10:51:00   \n",
      "\n",
      "                  type           state priority source               user  \\\n",
      "0  Application Support  Resolved by IT   medium  Email  Microsoft Outlook   \n",
      "1  Application Support  Resolved by IT   medium  Email  Microsoft Outlook   \n",
      "2  Application Support  Resolved by IT   medium  Email  Microsoft Outlook   \n",
      "3  Application Support  Resolved by IT   medium  Email  Microsoft Outlook   \n",
      "4  Application Support  Resolved by IT   medium  Email  Microsoft Outlook   \n",
      "\n",
      "  assignedagent  ... sla_response_time sla_resolution_time loginid  \\\n",
      "0    Ashok Wagh  ...               3.0                24.0    None   \n",
      "1    Ashok Wagh  ...               3.0                24.0    None   \n",
      "2    Ashok Wagh  ...               3.0                24.0    None   \n",
      "3    Ashok Wagh  ...               3.0                24.0    None   \n",
      "4    Ashok Wagh  ...               3.0                24.0    None   \n",
      "\n",
      "  timedifferenceminutes resp_minutes  resp_hrs is_closed ticket_age_days  \\\n",
      "0                 452.0        452.0  7.533333         0           769.0   \n",
      "1                 452.0        452.0  7.533333         0           769.0   \n",
      "2                 452.0        452.0  7.533333         0           769.0   \n",
      "3                 452.0        452.0  7.533333         0           769.0   \n",
      "4                 452.0        452.0  7.533333         0           769.0   \n",
      "\n",
      "  resolution_time_hours sla_breach  \n",
      "0                  None       None  \n",
      "1                  None       None  \n",
      "2                  None       None  \n",
      "3                  None       None  \n",
      "4                  None       None  \n",
      "\n",
      "[5 rows x 46 columns]\n"
     ]
    }
   ],
   "source": [
    "# Verify table creation (optional)\n",
    "query_result = pd.read_sql(f\"SELECT * FROM {table_name} LIMIT 5\", conn)\n",
    "print(query_result)"
   ]
  },
  {
   "cell_type": "code",
   "execution_count": 44,
   "id": "cf97e7a5-e0e1-4ea3-8608-7d37be74263c",
   "metadata": {},
   "outputs": [],
   "source": [
    "conn.close()"
   ]
  },
  {
   "cell_type": "code",
   "execution_count": null,
   "id": "0ad51291-897e-441b-9fdd-777cfa5c0032",
   "metadata": {},
   "outputs": [],
   "source": []
  }
 ],
 "metadata": {
  "kernelspec": {
   "display_name": "Python 3 (ipykernel)",
   "language": "python",
   "name": "python3"
  },
  "language_info": {
   "codemirror_mode": {
    "name": "ipython",
    "version": 3
   },
   "file_extension": ".py",
   "mimetype": "text/x-python",
   "name": "python",
   "nbconvert_exporter": "python",
   "pygments_lexer": "ipython3",
   "version": "3.13.5"
  }
 },
 "nbformat": 4,
 "nbformat_minor": 5
}
